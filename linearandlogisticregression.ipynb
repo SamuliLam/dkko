{
 "cells": [
  {
   "cell_type": "markdown",
   "source": [
    "# Linear and logistic regression"
   ],
   "metadata": {
    "collapsed": false
   },
   "id": "ce35106760f69f68"
  },
  {
   "cell_type": "markdown",
   "source": [
    "## 1. Business Understanding"
   ],
   "metadata": {
    "collapsed": false
   },
   "id": "68f06de6e1aa6039"
  },
  {
   "cell_type": "markdown",
   "source": [
    "## 2. Data Understanding"
   ],
   "metadata": {
    "collapsed": false
   },
   "id": "979557ac6ac0b1d0"
  },
  {
   "cell_type": "markdown",
   "source": [
    "## 3. Data Preparation"
   ],
   "metadata": {
    "collapsed": false
   },
   "id": "23fb1e3568bdaf53"
  },
  {
   "cell_type": "code",
   "execution_count": 5,
   "outputs": [
    {
     "name": "stdout",
     "output_type": "stream",
     "text": [
      "test\n",
      "{'uci_id': 477, 'name': 'Real Estate Valuation', 'repository_url': 'https://archive.ics.uci.edu/dataset/477/real+estate+valuation+data+set', 'data_url': 'https://archive.ics.uci.edu/static/public/477/data.csv', 'abstract': 'The real estate valuation is a regression problem. The market historical data set of real estate valuation are collected from Sindian Dist., New Taipei City, Taiwan. ', 'area': 'Business', 'tasks': ['Regression'], 'characteristics': ['Multivariate'], 'num_instances': 414, 'num_features': 6, 'feature_types': ['Integer', 'Real'], 'demographics': [], 'target_col': ['Y house price of unit area'], 'index_col': ['No'], 'has_missing_values': 'no', 'missing_values_symbol': None, 'year_of_dataset_creation': 2018, 'last_updated': 'Mon Feb 26 2024', 'dataset_doi': '10.24432/C5J30W', 'creators': ['I-Cheng Yeh'], 'intro_paper': {'ID': 373, 'type': 'NATIVE', 'title': 'Building real estate valuation models with comparative approach through case-based reasoning', 'authors': 'I. Yeh, Tzu-Kuang Hsu', 'venue': 'Applied Soft Computing', 'year': 2018, 'journal': None, 'DOI': None, 'URL': 'https://dl.acm.org/doi/abs/10.1016/j.asoc.2018.01.029', 'sha': None, 'corpus': None, 'arxiv': None, 'mag': None, 'acl': None, 'pmid': None, 'pmcid': None}, 'additional_info': {'summary': 'The market historical data set of real estate valuation are collected from Sindian Dist., New Taipei City, Taiwan. The â€œreal estate valuationâ€\\x9d is a regression problem. The data set was randomly split into the training data set (2/3 samples) and the testing data set (1/3 samples).', 'purpose': None, 'funded_by': None, 'instances_represent': None, 'recommended_data_splits': None, 'sensitive_data': None, 'preprocessing_description': None, 'variable_info': 'The inputs are as follows\\r\\nX1=the transaction date (for example, 2013.250=2013 March, 2013.500=2013 June, etc.)\\r\\nX2=the house age (unit: year)\\r\\nX3=the distance to the nearest MRT station (unit: meter)\\r\\nX4=the number of convenience stores in the living circle on foot (integer)\\r\\nX5=the geographic coordinate, latitude. (unit: degree)\\r\\nX6=the geographic coordinate, longitude. (unit: degree)\\r\\n\\r\\nThe output is as follow\\r\\nY= house price of unit area (10000 New Taiwan Dollar/Ping, where Ping is a local unit, 1 Ping = 3.3 meter squared)\\r\\n', 'citation': None}}\n",
      "                                     name     role        type demographic  \\\n",
      "0                                      No       ID     Integer        None   \n",
      "1                     X1 transaction date  Feature  Continuous        None   \n",
      "2                            X2 house age  Feature  Continuous        None   \n",
      "3  X3 distance to the nearest MRT station  Feature  Continuous        None   \n",
      "4         X4 number of convenience stores  Feature     Integer        None   \n",
      "5                             X5 latitude  Feature  Continuous        None   \n",
      "6                            X6 longitude  Feature  Continuous        None   \n",
      "7              Y house price of unit area   Target  Continuous        None   \n",
      "\n",
      "                                         description  \\\n",
      "0                                               None   \n",
      "1  for example, 2013.250=2013 March, 2013.500=201...   \n",
      "2                                               None   \n",
      "3                                               None   \n",
      "4  number of convenience stores in the living cir...   \n",
      "5                    geographic coordinate, latitude   \n",
      "6                   geographic coordinate, longitude   \n",
      "7  10000 New Taiwan Dollar/Ping, where Ping is a ...   \n",
      "\n",
      "                          units missing_values  \n",
      "0                          None             no  \n",
      "1                          None             no  \n",
      "2                          year             no  \n",
      "3                         meter             no  \n",
      "4                       integer             no  \n",
      "5                        degree             no  \n",
      "6                        degree             no  \n",
      "7  10000 New Taiwan Dollar/Ping             no  \n"
     ]
    }
   ],
   "source": [
    "from ucimlrepo import fetch_ucirepo \n",
    "\n",
    "# fetch dataset \n",
    "real_estate_valuation = fetch_ucirepo(id=477) \n",
    "  \n",
    "# data (as pandas dataframes) \n",
    "X = real_estate_valuation.data.features \n",
    "y = real_estate_valuation.data.targets \n",
    "\n",
    "\n",
    "print(\"test\")\n",
    "# metadata \n",
    "print(real_estate_valuation.metadata) \n",
    "# variable information \n",
    "print(real_estate_valuation.variables) "
   ],
   "metadata": {
    "collapsed": false,
    "ExecuteTime": {
     "end_time": "2025-02-07T06:56:43.611557600Z",
     "start_time": "2025-02-07T06:56:42.150358500Z"
    }
   },
   "id": "a63697c9e1d38676"
  },
  {
   "cell_type": "markdown",
   "source": [
    "## 4. Modeling"
   ],
   "metadata": {
    "collapsed": false
   },
   "id": "cda98b3468a39861"
  },
  {
   "cell_type": "markdown",
   "source": [
    "## 5. Evaluation"
   ],
   "metadata": {
    "collapsed": false
   },
   "id": "a35a71ebe7ad81d9"
  },
  {
   "cell_type": "markdown",
   "source": [
    "## 6. Deployment"
   ],
   "metadata": {
    "collapsed": false
   },
   "id": "f1cdff9e928b3553"
  },
  {
   "cell_type": "code",
   "execution_count": 5,
   "id": "initial_id",
   "metadata": {
    "collapsed": true,
    "ExecuteTime": {
     "end_time": "2025-02-07T06:56:43.611557600Z",
     "start_time": "2025-02-07T06:56:43.610054500Z"
    }
   },
   "outputs": [],
   "source": []
  }
 ],
 "metadata": {
  "kernelspec": {
   "display_name": "Python 3",
   "language": "python",
   "name": "python3"
  },
  "language_info": {
   "codemirror_mode": {
    "name": "ipython",
    "version": 2
   },
   "file_extension": ".py",
   "mimetype": "text/x-python",
   "name": "python",
   "nbconvert_exporter": "python",
   "pygments_lexer": "ipython2",
   "version": "2.7.6"
  }
 },
 "nbformat": 4,
 "nbformat_minor": 5
}
