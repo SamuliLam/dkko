{
 "cells": [
  {
   "cell_type": "markdown",
   "source": [
    "## 1. Business Understanding"
   ],
   "metadata": {
    "collapsed": false
   },
   "id": "68f06de6e1aa6039"
  },
  {
   "cell_type": "markdown",
   "source": [
    "## 2. Data Understanding"
   ],
   "metadata": {
    "collapsed": false
   },
   "id": "979557ac6ac0b1d0"
  },
  {
   "cell_type": "markdown",
   "source": [
    "## 3. Data Preparation"
   ],
   "metadata": {
    "collapsed": false
   },
   "id": "23fb1e3568bdaf53"
  },
  {
   "cell_type": "markdown",
   "source": [
    "## 4. Modeling"
   ],
   "metadata": {
    "collapsed": false
   },
   "id": "cda98b3468a39861"
  },
  {
   "cell_type": "markdown",
   "source": [
    "## 5. Evaluation"
   ],
   "metadata": {
    "collapsed": false
   },
   "id": "a35a71ebe7ad81d9"
  },
  {
   "cell_type": "markdown",
   "source": [
    "## 6. Deployment"
   ],
   "metadata": {
    "collapsed": false
   },
   "id": "f1cdff9e928b3553"
  },
  {
   "cell_type": "code",
   "execution_count": null,
   "id": "initial_id",
   "metadata": {
    "collapsed": true
   },
   "outputs": [],
   "source": []
  }
 ],
 "metadata": {
  "kernelspec": {
   "display_name": "Python 3",
   "language": "python",
   "name": "python3"
  },
  "language_info": {
   "codemirror_mode": {
    "name": "ipython",
    "version": 2
   },
   "file_extension": ".py",
   "mimetype": "text/x-python",
   "name": "python",
   "nbconvert_exporter": "python",
   "pygments_lexer": "ipython2",
   "version": "2.7.6"
  }
 },
 "nbformat": 4,
 "nbformat_minor": 5
}
