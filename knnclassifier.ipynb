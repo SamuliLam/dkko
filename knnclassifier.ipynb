{
 "cells": [
  {
   "cell_type": "markdown",
   "source": [
    "# kNN classifer\n",
    "\n",
    "## 1. Business understanding\n",
    "\n",
    "The goal of the analysis is to analyse breast tumour samples and declare it's variables as malignant or benign using kNN classifier. This analysis uses data from Diagnostic Wisconsin Breast Cancer Database.\n",
    "\n",
    "## 2. Data understanding\n",
    "\n",
    "The data includes Data Description:\n",
    "\n",
    "Number of instances: 569\n",
    "Number of features: 30\n",
    "Target variable: Cancer diagnosis (M = Malignant, B = Benign)\n",
    "Feature characteristics: Real-valued, computed from cell nucleus images\n",
    "\n",
    "The features describe various characteristics of cell nuclei present in the digitized image, including:\n",
    "\n",
    "a) radius (mean of distances from center to points on the perimeter)\n",
    "\n",
    "b) texture (standard deviation of gray-scale values)\n",
    "\n",
    "c) perimeter\n",
    "\n",
    "d) area\n",
    "\n",
    "e) smoothness (local variation in radius lengths)\n",
    "\n",
    "f) compactness (perimeter^2 / area - 1.0)\n",
    "\n",
    "g) concavity (severity of concave portions of the contour)\n",
    "\n",
    "h) concave points (number of concave portions of the contour)\n",
    "\n",
    "i) symmetry\n",
    "\n",
    "j) fractal dimension (\"coastline approximation\" - 1)\n",
    "\n",
    "## 3. Data preparation"
   ],
   "metadata": {
    "collapsed": false
   },
   "id": "9413d167a9bb7f29"
  },
  {
   "cell_type": "code",
   "source": [
    "import pandas as pd\n",
    "from sklearn.neighbors import KNeighborsClassifier\n",
    "\n",
    "#Data preparation and preprocessing\n",
    "df = pd.read_csv('datasets/wdbc.csv').drop(columns = ['ID'])"
   ],
   "metadata": {
    "ExecuteTime": {
     "end_time": "2025-01-24T12:33:03.377037Z",
     "start_time": "2025-01-24T12:33:03.365077Z"
    }
   },
   "id": "b6b3c2b3750d4b4f",
   "outputs": [],
   "execution_count": 15
  },
  {
   "metadata": {},
   "cell_type": "markdown",
   "source": [
    "Dataset is readed from the csv file while the ID column is dropped."
   ],
   "id": "c6f8589b90ddce17"
  },
  {
   "metadata": {
    "ExecuteTime": {
     "end_time": "2025-01-24T12:33:03.398533Z",
     "start_time": "2025-01-24T12:33:03.385048Z"
    }
   },
   "cell_type": "code",
   "source": [
    "df['Diagnosis'] = pd.Categorical(df['Diagnosis'])\n",
    "\n",
    "df['Diagnosis'] = df['Diagnosis'].astype(str)\n",
    "df['Diagnosis'] = df['Diagnosis'].replace({'M': 1, 'B': 0})\n",
    "df['Diagnosis'] = df['Diagnosis'].astype('category')\n",
    "\n",
    "X = df.drop(columns = 'Diagnosis')\n",
    "Y = df['Diagnosis'] # targets"
   ],
   "id": "fe67e680788d7f9d",
   "outputs": [
    {
     "name": "stderr",
     "output_type": "stream",
     "text": [
      "C:\\Users\\vilts\\AppData\\Local\\Temp\\ipykernel_8004\\1393105479.py:4: FutureWarning: Downcasting behavior in `replace` is deprecated and will be removed in a future version. To retain the old behavior, explicitly call `result.infer_objects(copy=False)`. To opt-in to the future behavior, set `pd.set_option('future.no_silent_downcasting', True)`\n",
      "  df['Diagnosis'] = df['Diagnosis'].replace({'M': 1, 'B': 0})\n"
     ]
    }
   ],
   "execution_count": 16
  },
  {
   "metadata": {},
   "cell_type": "markdown",
   "source": [
    "The values of Diagnosis columns are replaced from M and B to 1 and 0. The X and Y variables are created for seperating features and target."
   ],
   "id": "65752f06cc0c3073"
  },
  {
   "metadata": {
    "collapsed": false,
    "ExecuteTime": {
     "end_time": "2025-01-24T12:33:03.441718Z",
     "start_time": "2025-01-24T12:33:03.434059Z"
    }
   },
   "cell_type": "code",
   "source": [
    "\n",
    "from sklearn.preprocessing import StandardScaler\n",
    "scaler = StandardScaler()\n",
    "df.Diagnosis.unique()\n",
    "\n",
    "X_scaled = pd.DataFrame(scaler.fit_transform(X), columns=X.columns)"
   ],
   "id": "2d65a106450c4b49",
   "outputs": [],
   "execution_count": 17
  },
  {
   "metadata": {},
   "cell_type": "markdown",
   "source": [
    "The features in X are standardized and stored in X_scaled.\n",
    "\n",
    "## 4. Modelling"
   ],
   "id": "390c2e0313d1b96"
  },
  {
   "cell_type": "code",
   "source": [
    "# Training\n",
    "from sklearn.model_selection import train_test_split\n",
    "from sklearn.metrics import confusion_matrix, ConfusionMatrixDisplay, accuracy_score, precision_score, recall_score\n",
    "\n",
    "X_train, X_test, y_train, y_test = train_test_split(X_scaled, Y, test_size=0.3, random_state=123)"
   ],
   "metadata": {
    "ExecuteTime": {
     "end_time": "2025-01-24T12:33:03.547803Z",
     "start_time": "2025-01-24T12:33:03.537348Z"
    }
   },
   "id": "ba166805f734de9",
   "outputs": [],
   "execution_count": 18
  },
  {
   "metadata": {},
   "cell_type": "markdown",
   "source": [
    "Dataset is splitted into a training sets and a testing sets. 70% of the data will be used for training while 30% for testing.\n",
    "\n",
    "The training set data will be trained using the kNN classifier."
   ],
   "id": "f5349d945249b9b2"
  },
  {
   "metadata": {
    "ExecuteTime": {
     "end_time": "2025-01-24T12:33:03.614510Z",
     "start_time": "2025-01-24T12:33:03.585917Z"
    }
   },
   "cell_type": "code",
   "source": [
    "# Experiment with a few choices of the hyperparameter k, and report the findings.\n",
    "knn = KNeighborsClassifier(n_neighbors=2)\n",
    "\n",
    "knn.fit(X_train, y_train)\n",
    "\n",
    "y_pred = knn.predict(X_test)"
   ],
   "id": "afc41d6a1c3b6a22",
   "outputs": [],
   "execution_count": 19
  },
  {
   "metadata": {},
   "cell_type": "markdown",
   "source": [
    "Now the kNN classifier is trained with the training data and tested with the testing data. Also Y predictions have been generated here using X test set.\n",
    "\n",
    "## 5. Evaluation\n",
    "\n",
    "Performance metrics are measured with training and testing sets."
   ],
   "id": "196adefd12f2434a"
  },
  {
   "metadata": {
    "ExecuteTime": {
     "end_time": "2025-01-24T12:33:03.659805Z",
     "start_time": "2025-01-24T12:33:03.624556Z"
    }
   },
   "cell_type": "code",
   "source": [
    "#Performance metrics\n",
    "accuracy_test = accuracy_score(y_test, y_pred)\n",
    "print(f\"Accuracy on the test set: {accuracy_test:.2f}\")\n",
    "\n",
    "y_train_pred = knn.predict(X_train)\n",
    "accuracy_train = accuracy_score(y_train, y_train_pred)\n",
    "print(f\"Accuracy on the training set: {accuracy_train:.2f}\")\n",
    "\n",
    "precision_scores = precision_score(y_test, y_pred)\n",
    "recall_scores = recall_score(y_test, y_pred)\n",
    "print(f\"Precision: {precision_scores:.2f}\")\n",
    "print(f\"Recall: {recall_scores:.2f}\")"
   ],
   "id": "5c508aa3bc35c92f",
   "outputs": [
    {
     "name": "stdout",
     "output_type": "stream",
     "text": [
      "Accuracy on the test set: 0.97\n",
      "Accuracy on the training set: 0.96\n",
      "Precision: 1.00\n",
      "Recall: 0.93\n"
     ]
    }
   ],
   "execution_count": 20
  },
  {
   "metadata": {},
   "cell_type": "markdown",
   "source": [
    "This means that this model matches actual results with 97% accuracy on the test set and 96% accuracy on the training set.\n",
    "\n",
    "## 6. Deployment\n",
    "\n",
    "The results are going to be generated as a confusion matrix."
   ],
   "id": "9a09433bb78e9579"
  },
  {
   "metadata": {
    "collapsed": false,
    "ExecuteTime": {
     "end_time": "2025-01-24T12:33:03.890071Z",
     "start_time": "2025-01-24T12:33:03.705393Z"
    }
   },
   "cell_type": "code",
   "source": [
    "# Confusion Matrix\n",
    "cm = confusion_matrix(y_test, y_pred)\n",
    "\n",
    "# Create a ConfusionMatrixDisplay object\n",
    "cmd = ConfusionMatrixDisplay(confusion_matrix=cm, display_labels=['Benign', 'Malignant'])\n",
    "\n",
    "# Plot the confusion matrix with additional parameters for clarity\n",
    "cmd.plot(cmap='PuRd')\n",
    "cmd.ax_.grid(False)\n",
    "cmd.ax_.set_title('Confusion Matrix')\n",
    "cmd.ax_.set_xlabel('Predicted Labels')\n",
    "cmd.ax_.set_ylabel('True Labels')"
   ],
   "id": "eb99983ec57afb8e",
   "outputs": [
    {
     "data": {
      "text/plain": [
       "Text(0, 0.5, 'True Labels')"
      ]
     },
     "execution_count": 21,
     "metadata": {},
     "output_type": "execute_result"
    },
    {
     "data": {
      "text/plain": [
       "<Figure size 640x480 with 2 Axes>"
      ],
      "image/png": "[encoded data removed]"
     },
     "metadata": {},
     "output_type": "display_data"
    }
   ],
   "execution_count": 21
  },
  {
   "metadata": {},
   "cell_type": "markdown",
   "source": [
    "The confusion matrix shows that:\n",
    "- The model identifies all the 103 benign samples correctly.\n",
    "- Five of the malignant samples are misclassified as benign.\n",
    "\n"
   ],
   "id": "4c1221c942924a30"
  }
 ],
 "metadata": {
  "kernelspec": {
   "display_name": "Python 3",
   "language": "python",
   "name": "python3"
  },
  "language_info": {
   "codemirror_mode": {
    "name": "ipython",
    "version": 2
   },
   "file_extension": ".py",
   "mimetype": "text/x-python",
   "name": "python",
   "nbconvert_exporter": "python",
   "pygments_lexer": "ipython2",
   "version": "2.7.6"
  }
 },
 "nbformat": 4,
 "nbformat_minor": 5
}
