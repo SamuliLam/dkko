{
 "cells": [
  {
   "cell_type": "code",
   "execution_count": 472,
   "id": "initial_id",
   "metadata": {
    "collapsed": true,
    "ExecuteTime": {
     "end_time": "2025-01-22T12:16:52.985076900Z",
     "start_time": "2025-01-22T12:16:52.974833700Z"
    }
   },
   "outputs": [],
   "source": [
    "import pandas as pd\n",
    "from sklearn.neighbors import KNeighborsClassifier\n",
    "\n",
    "df = pd.read_csv('datasets/wdbc.csv').drop(columns = ['ID'])"
   ]
  },
  {
   "cell_type": "markdown",
   "source": [
    "# 1. Business/data understanding\n",
    "The data includes Data Description:\n",
    "\n",
    "Number of instances: 569\n",
    "Number of features: 30\n",
    "Target variable: Cancer diagnosis (M = Malignant, B = Benign)\n",
    "Feature characteristics: Real-valued, computed from cell nucleus images\n",
    "\n",
    "The features describe various characteristics of cell nuclei present in the digitized image, including:\n",
    "\n",
    "a) radius (mean of distances from center to points on the perimeter)\n",
    "\n",
    "b) texture (standard deviation of gray-scale values)\n",
    "\n",
    "c) perimeter\n",
    "\n",
    "d) area\n",
    "\n",
    "e) smoothness (local variation in radius lengths)\n",
    "\n",
    "f) compactness (perimeter^2 / area - 1.0)\n",
    "\n",
    "g) concavity (severity of concave portions of the contour)\n",
    "\n",
    "h) concave points (number of concave portions of the contour)\n",
    "\n",
    "i) symmetry \n",
    "\n",
    "j) fractal dimension (\"coastline approximation\" - 1)"
   ],
   "metadata": {
    "collapsed": false
   },
   "id": "9413d167a9bb7f29"
  },
  {
   "cell_type": "code",
   "execution_count": 473,
   "outputs": [
    {
     "name": "stderr",
     "output_type": "stream",
     "text": [
      "C:\\Users\\onnil\\AppData\\Local\\Temp\\ipykernel_18428\\3014300802.py:7: FutureWarning: Downcasting behavior in `replace` is deprecated and will be removed in a future version. To retain the old behavior, explicitly call `result.infer_objects(copy=False)`. To opt-in to the future behavior, set `pd.set_option('future.no_silent_downcasting', True)`\n",
      "  df['Diagnosis'] = df['Diagnosis'].replace({'M': 1, 'B': 0})\n"
     ]
    }
   ],
   "source": [
    "from sklearn.preprocessing import StandardScaler\n",
    "from sklearn.model_selection import cross_val_score\n",
    "\n",
    "df['Diagnosis'] = pd.Categorical(df['Diagnosis'])\n",
    "\n",
    "df['Diagnosis'] = df['Diagnosis'].astype(str)\n",
    "df['Diagnosis'] = df['Diagnosis'].replace({'M': 1, 'B': 0})\n",
    "df['Diagnosis'] = df['Diagnosis'].astype('category')\n",
    "\n",
    "X = df.drop(columns = 'Diagnosis')\n",
    "Y = df['Diagnosis'] # targets\n",
    "\n",
    "scaler = StandardScaler()\n",
    "df.Diagnosis.unique()\n",
    "\n",
    "X_scaled = pd.DataFrame(scaler.fit_transform(X), columns=X.columns)"
   ],
   "metadata": {
    "collapsed": false,
    "ExecuteTime": {
     "end_time": "2025-01-22T12:16:52.993473200Z",
     "start_time": "2025-01-22T12:16:52.984077300Z"
    }
   },
   "id": "9bb3d6537b6ababd"
  },
  {
   "cell_type": "code",
   "execution_count": 474,
   "outputs": [],
   "source": [
    "# model = KNeighborsClassifier(n_neighbors = 2)\n",
    "# model.fit(df_scaled, Y)"
   ],
   "metadata": {
    "collapsed": false,
    "ExecuteTime": {
     "end_time": "2025-01-22T12:16:53.001614Z",
     "start_time": "2025-01-22T12:16:52.992471600Z"
    }
   },
   "id": "ff353706888ee292"
  },
  {
   "cell_type": "code",
   "execution_count": 475,
   "outputs": [
    {
     "name": "stdout",
     "output_type": "stream",
     "text": [
      "Accuracy on the test set: 0.97\n",
      "Accuracy on the training set: 0.96\n",
      "Precision: 1.00\n",
      "Recall: 0.93\n"
     ]
    },
    {
     "data": {
      "text/plain": "Text(0, 0.5, 'True Labels')"
     },
     "execution_count": 475,
     "metadata": {},
     "output_type": "execute_result"
    },
    {
     "data": {
      "text/plain": "<Figure size 640x480 with 2 Axes>",
      "image/png": "[encoded data removed]"
     },
     "metadata": {},
     "output_type": "display_data"
    }
   ],
   "source": [
    "from sklearn.model_selection import train_test_split\n",
    "from sklearn.metrics import confusion_matrix, ConfusionMatrixDisplay, accuracy_score, precision_score, recall_score\n",
    "\n",
    "X_train, X_test, y_train, y_test = train_test_split(X_scaled, Y, test_size=0.3, random_state=123)\n",
    "\n",
    "knn = KNeighborsClassifier(n_neighbors=2)\n",
    "\n",
    "knn.fit(X_train, y_train)\n",
    "\n",
    "y_pred = knn.predict(X_test)\n",
    "\n",
    "accuracy_test = accuracy_score(y_test, y_pred)\n",
    "print(f\"Accuracy on the test set: {accuracy_test:.2f}\")\n",
    "\n",
    "y_train_pred = knn.predict(X_train)\n",
    "accuracy_train = accuracy_score(y_train, y_train_pred)\n",
    "print(f\"Accuracy on the training set: {accuracy_train:.2f}\")\n",
    "\n",
    "precision_scores = precision_score(y_test, y_pred)\n",
    "recall_scores = recall_score(y_test, y_pred)\n",
    "print(f\"Precision: {precision_scores:.2f}\")\n",
    "print(f\"Recall: {recall_scores:.2f}\")\n",
    "\n",
    "cm = confusion_matrix(y_test, y_pred)\n",
    "\n",
    "# Create a ConfusionMatrixDisplay object\n",
    "cmd = ConfusionMatrixDisplay(confusion_matrix=cm, display_labels=['Benign', 'Malignant'])\n",
    "\n",
    "# Plot the confusion matrix with additional parameters for clarity\n",
    "cmd.plot(cmap='PuRd')\n",
    "cmd.ax_.grid(False)\n",
    "cmd.ax_.set_title('Confusion Matrix')\n",
    "cmd.ax_.set_xlabel('Predicted Labels')\n",
    "cmd.ax_.set_ylabel('True Labels')"
   ],
   "metadata": {
    "collapsed": false,
    "ExecuteTime": {
     "end_time": "2025-01-22T12:16:53.138735200Z",
     "start_time": "2025-01-22T12:16:53.000614100Z"
    }
   },
   "id": "eb99983ec57afb8e"
  }
 ],
 "metadata": {
  "kernelspec": {
   "display_name": "Python 3",
   "language": "python",
   "name": "python3"
  },
  "language_info": {
   "codemirror_mode": {
    "name": "ipython",
    "version": 2
   },
   "file_extension": ".py",
   "mimetype": "text/x-python",
   "name": "python",
   "nbconvert_exporter": "python",
   "pygments_lexer": "ipython2",
   "version": "2.7.6"
  }
 },
 "nbformat": 4,
 "nbformat_minor": 5
}
