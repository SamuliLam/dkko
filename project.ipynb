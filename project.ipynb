{
 "cells": [
  {
   "cell_type": "code",
   "execution_count": 2,
   "outputs": [],
   "source": [
    "import pandas as pd\n",
    "import matplotlib as plt\n",
    "import seaborn as sns\n",
    "import numpy as np"
   ],
   "metadata": {
    "collapsed": false,
    "ExecuteTime": {
     "end_time": "2025-02-26T12:33:08.335908300Z",
     "start_time": "2025-02-26T12:33:08.294560100Z"
    }
   },
   "id": "acf5b44e5764801d"
  },
  {
   "cell_type": "markdown",
   "source": [
    "# 1. Business understanding\n"
   ],
   "metadata": {
    "collapsed": false
   },
   "id": "1edbd2671eae9db6"
  },
  {
   "cell_type": "code",
   "execution_count": 11,
   "outputs": [
    {
     "data": {
      "text/plain": "               Age       Height       Weight         FCVC          NCP  \\\ncount  2111.000000  2111.000000  2111.000000  2111.000000  2111.000000   \nmean     24.312600     1.701677    86.586058     2.419043     2.685628   \nstd       6.345968     0.093305    26.191172     0.533927     0.778039   \nmin      14.000000     1.450000    39.000000     1.000000     1.000000   \n25%      19.947192     1.630000    65.473343     2.000000     2.658738   \n50%      22.777890     1.700499    83.000000     2.385502     3.000000   \n75%      26.000000     1.768464   107.430682     3.000000     3.000000   \nmax      61.000000     1.980000   173.000000     3.000000     4.000000   \n\n              CH2O          FAF          TUE  \ncount  2111.000000  2111.000000  2111.000000  \nmean      2.008011     1.010298     0.657866  \nstd       0.612953     0.850592     0.608927  \nmin       1.000000     0.000000     0.000000  \n25%       1.584812     0.124505     0.000000  \n50%       2.000000     1.000000     0.625350  \n75%       2.477420     1.666678     1.000000  \nmax       3.000000     3.000000     2.000000  ",
      "text/html": "<div>\n<style scoped>\n    .dataframe tbody tr th:only-of-type {\n        vertical-align: middle;\n    }\n\n    .dataframe tbody tr th {\n        vertical-align: top;\n    }\n\n    .dataframe thead th {\n        text-align: right;\n    }\n</style>\n<table border=\"1\" class=\"dataframe\">\n  <thead>\n    <tr style=\"text-align: right;\">\n      <th></th>\n      <th>Age</th>\n      <th>Height</th>\n      <th>Weight</th>\n      <th>FCVC</th>\n      <th>NCP</th>\n      <th>CH2O</th>\n      <th>FAF</th>\n      <th>TUE</th>\n    </tr>\n  </thead>\n  <tbody>\n    <tr>\n      <th>count</th>\n      <td>2111.000000</td>\n      <td>2111.000000</td>\n      <td>2111.000000</td>\n      <td>2111.000000</td>\n      <td>2111.000000</td>\n      <td>2111.000000</td>\n      <td>2111.000000</td>\n      <td>2111.000000</td>\n    </tr>\n    <tr>\n      <th>mean</th>\n      <td>24.312600</td>\n      <td>1.701677</td>\n      <td>86.586058</td>\n      <td>2.419043</td>\n      <td>2.685628</td>\n      <td>2.008011</td>\n      <td>1.010298</td>\n      <td>0.657866</td>\n    </tr>\n    <tr>\n      <th>std</th>\n      <td>6.345968</td>\n      <td>0.093305</td>\n      <td>26.191172</td>\n      <td>0.533927</td>\n      <td>0.778039</td>\n      <td>0.612953</td>\n      <td>0.850592</td>\n      <td>0.608927</td>\n    </tr>\n    <tr>\n      <th>min</th>\n      <td>14.000000</td>\n      <td>1.450000</td>\n      <td>39.000000</td>\n      <td>1.000000</td>\n      <td>1.000000</td>\n      <td>1.000000</td>\n      <td>0.000000</td>\n      <td>0.000000</td>\n    </tr>\n    <tr>\n      <th>25%</th>\n      <td>19.947192</td>\n      <td>1.630000</td>\n      <td>65.473343</td>\n      <td>2.000000</td>\n      <td>2.658738</td>\n      <td>1.584812</td>\n      <td>0.124505</td>\n      <td>0.000000</td>\n    </tr>\n    <tr>\n      <th>50%</th>\n      <td>22.777890</td>\n      <td>1.700499</td>\n      <td>83.000000</td>\n      <td>2.385502</td>\n      <td>3.000000</td>\n      <td>2.000000</td>\n      <td>1.000000</td>\n      <td>0.625350</td>\n    </tr>\n    <tr>\n      <th>75%</th>\n      <td>26.000000</td>\n      <td>1.768464</td>\n      <td>107.430682</td>\n      <td>3.000000</td>\n      <td>3.000000</td>\n      <td>2.477420</td>\n      <td>1.666678</td>\n      <td>1.000000</td>\n    </tr>\n    <tr>\n      <th>max</th>\n      <td>61.000000</td>\n      <td>1.980000</td>\n      <td>173.000000</td>\n      <td>3.000000</td>\n      <td>4.000000</td>\n      <td>3.000000</td>\n      <td>3.000000</td>\n      <td>2.000000</td>\n    </tr>\n  </tbody>\n</table>\n</div>"
     },
     "execution_count": 11,
     "metadata": {},
     "output_type": "execute_result"
    }
   ],
   "source": [
    "df = pd.read_csv('./datasets/ObesityDataSet_raw_and_data_sinthetic.csv')\n",
    "df\n",
    "\n",
    "df.describe()"
   ],
   "metadata": {
    "collapsed": false,
    "ExecuteTime": {
     "end_time": "2025-02-26T12:52:31.561483700Z",
     "start_time": "2025-02-26T12:52:31.533846800Z"
    }
   },
   "id": "1ee4b4e5c51de84a"
  },
  {
   "cell_type": "markdown",
   "source": [
    "\n",
    "# 2. Data understanding\n"
   ],
   "metadata": {
    "collapsed": false
   },
   "id": "f6d44ddf61d34d73"
  },
  {
   "cell_type": "markdown",
   "source": [
    "# 3. Data preparation\n"
   ],
   "metadata": {
    "collapsed": false
   },
   "id": "124b59e51ad0382"
  },
  {
   "cell_type": "code",
   "execution_count": 4,
   "outputs": [
    {
     "name": "stdout",
     "output_type": "stream",
     "text": [
      "               Age       Height       Weight         FCVC          NCP  \\\n",
      "count  2111.000000  2111.000000  2111.000000  2111.000000  2111.000000   \n",
      "mean     24.312600     1.701677    86.586058     2.419043     2.685628   \n",
      "std       6.345968     0.093305    26.191172     0.533927     0.778039   \n",
      "min      14.000000     1.450000    39.000000     1.000000     1.000000   \n",
      "25%      19.947192     1.630000    65.473343     2.000000     2.658738   \n",
      "50%      22.777890     1.700499    83.000000     2.385502     3.000000   \n",
      "75%      26.000000     1.768464   107.430682     3.000000     3.000000   \n",
      "max      61.000000     1.980000   173.000000     3.000000     4.000000   \n",
      "\n",
      "              CH2O          FAF          TUE  \n",
      "count  2111.000000  2111.000000  2111.000000  \n",
      "mean      2.008011     1.010298     0.657866  \n",
      "std       0.612953     0.850592     0.608927  \n",
      "min       1.000000     0.000000     0.000000  \n",
      "25%       1.584812     0.124505     0.000000  \n",
      "50%       2.000000     1.000000     0.625350  \n",
      "75%       2.477420     1.666678     1.000000  \n",
      "max       3.000000     3.000000     2.000000  \n"
     ]
    }
   ],
   "source": [
    "print(df.describe()) # Summary statistics"
   ],
   "metadata": {
    "collapsed": false,
    "ExecuteTime": {
     "end_time": "2025-02-26T12:33:08.403988200Z",
     "start_time": "2025-02-26T12:33:08.333913500Z"
    }
   },
   "id": "907bae43d7de642"
  },
  {
   "cell_type": "code",
   "execution_count": 5,
   "outputs": [
    {
     "name": "stdout",
     "output_type": "stream",
     "text": [
      "Gender                            0\n",
      "Age                               0\n",
      "Height                            0\n",
      "Weight                            0\n",
      "family_history_with_overweight    0\n",
      "FAVC                              0\n",
      "FCVC                              0\n",
      "NCP                               0\n",
      "CAEC                              0\n",
      "SMOKE                             0\n",
      "CH2O                              0\n",
      "SCC                               0\n",
      "FAF                               0\n",
      "TUE                               0\n",
      "CALC                              0\n",
      "MTRANS                            0\n",
      "NObeyesdad                        0\n",
      "dtype: int64\n"
     ]
    }
   ],
   "source": [
    "missing_values = df.isnull().sum() # Check for missing values\n",
    "print(missing_values)"
   ],
   "metadata": {
    "collapsed": false,
    "ExecuteTime": {
     "end_time": "2025-02-26T12:33:08.412962700Z",
     "start_time": "2025-02-26T12:33:08.350870300Z"
    }
   },
   "id": "e0cfef9ad26be8d2"
  },
  {
   "metadata": {},
   "cell_type": "markdown",
   "source": [
    "## 4. Modelling"
   ],
   "id": "bd7660b41dca84e8"
  },
  {
   "cell_type": "code",
   "execution_count": null,
   "outputs": [],
   "source": [],
   "metadata": {
    "collapsed": false,
    "ExecuteTime": {
     "start_time": "2025-02-26T12:33:08.840197600Z"
    }
   },
   "id": "829c6f1a3494b440"
  }
 ],
 "metadata": {
  "kernelspec": {
   "display_name": "Python 3",
   "language": "python",
   "name": "python3"
  },
  "language_info": {
   "codemirror_mode": {
    "name": "ipython",
    "version": 2
   },
   "file_extension": ".py",
   "mimetype": "text/x-python",
   "name": "python",
   "nbconvert_exporter": "python",
   "pygments_lexer": "ipython2",
   "version": "2.7.6"
  }
 },
 "nbformat": 4,
 "nbformat_minor": 5
}
