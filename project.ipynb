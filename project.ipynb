{
 "cells": [
  {
   "cell_type": "code",
   "execution_count": 103,
   "outputs": [],
   "source": [
    "import pandas as pd\n",
    "import matplotlib as plt\n",
    "import seaborn as sns\n",
    "import numpy as np"
   ],
   "metadata": {
    "collapsed": false,
    "ExecuteTime": {
     "end_time": "2025-02-26T08:09:50.049917200Z",
     "start_time": "2025-02-26T08:09:50.019909800Z"
    }
   },
   "id": "acf5b44e5764801d"
  },
  {
   "cell_type": "markdown",
   "source": [
    "# 1. Business understanding\n",
    "We are analyzing the student performance dataset to understand what factors affect the students performance the most, can we predict the final grade of a student based on the other features in the dataset and how different learning styles affect the performance of the student. We will use the following columns to predict the final grade of a student:"
   ],
   "metadata": {
    "collapsed": false
   },
   "id": "1edbd2671eae9db6"
  },
  {
   "cell_type": "code",
   "execution_count": 104,
   "outputs": [
    {
     "data": {
      "text/plain": "     Student_ID  Age  Gender  Study_Hours_per_Week Preferred_Learning_Style  \\\n0        S00001   18  Female                    48              Kinesthetic   \n1        S00002   29  Female                    30          Reading/Writing   \n2        S00003   20  Female                    47              Kinesthetic   \n3        S00004   23  Female                    13                 Auditory   \n4        S00005   19  Female                    24                 Auditory   \n...         ...  ...     ...                   ...                      ...   \n9995     S09996   20    Male                    30                 Auditory   \n9996     S09997   23  Female                    16                   Visual   \n9997     S09998   26    Male                    23                   Visual   \n9998     S09999   18    Male                    41          Reading/Writing   \n9999     S10000   24    Male                     8                   Visual   \n\n      Online_Courses_Completed Participation_in_Discussions  \\\n0                           14                          Yes   \n1                           20                           No   \n2                           11                           No   \n3                            0                          Yes   \n4                           19                          Yes   \n...                        ...                          ...   \n9995                         6                          Yes   \n9996                         8                          Yes   \n9997                         3                          Yes   \n9998                         7                          Yes   \n9999                        20                          Yes   \n\n      Assignment_Completion_Rate (%)  Exam_Score (%)  Attendance_Rate (%)  \\\n0                                100              69                   66   \n1                                 71              40                   57   \n2                                 60              43                   79   \n3                                 63              70                   60   \n4                                 59              63                   93   \n...                              ...             ...                  ...   \n9995                              62              58                   76   \n9996                              54              84                   86   \n9997                              54              40                   70   \n9998                              66              45                   90   \n9999                              87              40                   81   \n\n     Use_of_Educational_Tech Self_Reported_Stress_Level  \\\n0                        Yes                       High   \n1                        Yes                     Medium   \n2                        Yes                        Low   \n3                        Yes                        Low   \n4                        Yes                     Medium   \n...                      ...                        ...   \n9995                     Yes                     Medium   \n9996                     Yes                     Medium   \n9997                      No                     Medium   \n9998                     Yes                        Low   \n9999                      No                       High   \n\n      Time_Spent_on_Social_Media (hours/week)  Sleep_Hours_per_Night  \\\n0                                           9                      8   \n1                                          28                      8   \n2                                          13                      7   \n3                                          24                     10   \n4                                          26                      8   \n...                                       ...                    ...   \n9995                                       17                      6   \n9996                                        6                      5   \n9997                                       20                      8   \n9998                                        6                      8   \n9999                                       17                      4   \n\n     Final_Grade  \n0              C  \n1              D  \n2              D  \n3              B  \n4              C  \n...          ...  \n9995           C  \n9996           B  \n9997           D  \n9998           D  \n9999           D  \n\n[10000 rows x 15 columns]",
      "text/html": "<div>\n<style scoped>\n    .dataframe tbody tr th:only-of-type {\n        vertical-align: middle;\n    }\n\n    .dataframe tbody tr th {\n        vertical-align: top;\n    }\n\n    .dataframe thead th {\n        text-align: right;\n    }\n</style>\n<table border=\"1\" class=\"dataframe\">\n  <thead>\n    <tr style=\"text-align: right;\">\n      <th></th>\n      <th>Student_ID</th>\n      <th>Age</th>\n      <th>Gender</th>\n      <th>Study_Hours_per_Week</th>\n      <th>Preferred_Learning_Style</th>\n      <th>Online_Courses_Completed</th>\n      <th>Participation_in_Discussions</th>\n      <th>Assignment_Completion_Rate (%)</th>\n      <th>Exam_Score (%)</th>\n      <th>Attendance_Rate (%)</th>\n      <th>Use_of_Educational_Tech</th>\n      <th>Self_Reported_Stress_Level</th>\n      <th>Time_Spent_on_Social_Media (hours/week)</th>\n      <th>Sleep_Hours_per_Night</th>\n      <th>Final_Grade</th>\n    </tr>\n  </thead>\n  <tbody>\n    <tr>\n      <th>0</th>\n      <td>S00001</td>\n      <td>18</td>\n      <td>Female</td>\n      <td>48</td>\n      <td>Kinesthetic</td>\n      <td>14</td>\n      <td>Yes</td>\n      <td>100</td>\n      <td>69</td>\n      <td>66</td>\n      <td>Yes</td>\n      <td>High</td>\n      <td>9</td>\n      <td>8</td>\n      <td>C</td>\n    </tr>\n    <tr>\n      <th>1</th>\n      <td>S00002</td>\n      <td>29</td>\n      <td>Female</td>\n      <td>30</td>\n      <td>Reading/Writing</td>\n      <td>20</td>\n      <td>No</td>\n      <td>71</td>\n      <td>40</td>\n      <td>57</td>\n      <td>Yes</td>\n      <td>Medium</td>\n      <td>28</td>\n      <td>8</td>\n      <td>D</td>\n    </tr>\n    <tr>\n      <th>2</th>\n      <td>S00003</td>\n      <td>20</td>\n      <td>Female</td>\n      <td>47</td>\n      <td>Kinesthetic</td>\n      <td>11</td>\n      <td>No</td>\n      <td>60</td>\n      <td>43</td>\n      <td>79</td>\n      <td>Yes</td>\n      <td>Low</td>\n      <td>13</td>\n      <td>7</td>\n      <td>D</td>\n    </tr>\n    <tr>\n      <th>3</th>\n      <td>S00004</td>\n      <td>23</td>\n      <td>Female</td>\n      <td>13</td>\n      <td>Auditory</td>\n      <td>0</td>\n      <td>Yes</td>\n      <td>63</td>\n      <td>70</td>\n      <td>60</td>\n      <td>Yes</td>\n      <td>Low</td>\n      <td>24</td>\n      <td>10</td>\n      <td>B</td>\n    </tr>\n    <tr>\n      <th>4</th>\n      <td>S00005</td>\n      <td>19</td>\n      <td>Female</td>\n      <td>24</td>\n      <td>Auditory</td>\n      <td>19</td>\n      <td>Yes</td>\n      <td>59</td>\n      <td>63</td>\n      <td>93</td>\n      <td>Yes</td>\n      <td>Medium</td>\n      <td>26</td>\n      <td>8</td>\n      <td>C</td>\n    </tr>\n    <tr>\n      <th>...</th>\n      <td>...</td>\n      <td>...</td>\n      <td>...</td>\n      <td>...</td>\n      <td>...</td>\n      <td>...</td>\n      <td>...</td>\n      <td>...</td>\n      <td>...</td>\n      <td>...</td>\n      <td>...</td>\n      <td>...</td>\n      <td>...</td>\n      <td>...</td>\n      <td>...</td>\n    </tr>\n    <tr>\n      <th>9995</th>\n      <td>S09996</td>\n      <td>20</td>\n      <td>Male</td>\n      <td>30</td>\n      <td>Auditory</td>\n      <td>6</td>\n      <td>Yes</td>\n      <td>62</td>\n      <td>58</td>\n      <td>76</td>\n      <td>Yes</td>\n      <td>Medium</td>\n      <td>17</td>\n      <td>6</td>\n      <td>C</td>\n    </tr>\n    <tr>\n      <th>9996</th>\n      <td>S09997</td>\n      <td>23</td>\n      <td>Female</td>\n      <td>16</td>\n      <td>Visual</td>\n      <td>8</td>\n      <td>Yes</td>\n      <td>54</td>\n      <td>84</td>\n      <td>86</td>\n      <td>Yes</td>\n      <td>Medium</td>\n      <td>6</td>\n      <td>5</td>\n      <td>B</td>\n    </tr>\n    <tr>\n      <th>9997</th>\n      <td>S09998</td>\n      <td>26</td>\n      <td>Male</td>\n      <td>23</td>\n      <td>Visual</td>\n      <td>3</td>\n      <td>Yes</td>\n      <td>54</td>\n      <td>40</td>\n      <td>70</td>\n      <td>No</td>\n      <td>Medium</td>\n      <td>20</td>\n      <td>8</td>\n      <td>D</td>\n    </tr>\n    <tr>\n      <th>9998</th>\n      <td>S09999</td>\n      <td>18</td>\n      <td>Male</td>\n      <td>41</td>\n      <td>Reading/Writing</td>\n      <td>7</td>\n      <td>Yes</td>\n      <td>66</td>\n      <td>45</td>\n      <td>90</td>\n      <td>Yes</td>\n      <td>Low</td>\n      <td>6</td>\n      <td>8</td>\n      <td>D</td>\n    </tr>\n    <tr>\n      <th>9999</th>\n      <td>S10000</td>\n      <td>24</td>\n      <td>Male</td>\n      <td>8</td>\n      <td>Visual</td>\n      <td>20</td>\n      <td>Yes</td>\n      <td>87</td>\n      <td>40</td>\n      <td>81</td>\n      <td>No</td>\n      <td>High</td>\n      <td>17</td>\n      <td>4</td>\n      <td>D</td>\n    </tr>\n  </tbody>\n</table>\n<p>10000 rows × 15 columns</p>\n</div>"
     },
     "execution_count": 104,
     "metadata": {},
     "output_type": "execute_result"
    }
   ],
   "source": [
    "df = pd.read_csv('./datasets/student_performance_large_dataset.csv')\n",
    "df"
   ],
   "metadata": {
    "collapsed": false,
    "ExecuteTime": {
     "end_time": "2025-02-26T08:09:50.080932700Z",
     "start_time": "2025-02-26T08:09:50.024918800Z"
    }
   },
   "id": "1ee4b4e5c51de84a"
  },
  {
   "cell_type": "markdown",
   "source": [
    "# 2. Data understanding\n",
    "The data is pulled from Kaggle and created by Adil Shahim (https://www.kaggle.com/datasets/adilshamim8/student-performance-and-learning-style). The dataset contains the following columns:\n",
    "\n",
    "- **Student_ID** – Unique identifier for each student\n",
    "- **Age** – Student's age (18-30 years)\n",
    "- **Gender** – Male, Female, or Other\n",
    "- **Study_Hours_per_Week** – Hours spent studying per week (5-50 hours)\n",
    "- **Preferred_Learning_Style** – Visual, Auditory, Reading/Writing, Kinesthetic\n",
    "- **Online_Courses_Completed** – Number of online courses completed (0-20)\n",
    "- **Participation_in_Discussions** – Whether the student actively participates in discussions (Yes/No)\n",
    "- **Assignment_Completion_Rate (%)** – Percentage of assignments completed (50%-100%)\n",
    "- **Exam_Score (%)** – Student’s final exam score (40%-100%)\n",
    "- **Attendance_Rate (%)** – Percentage of classes attended (50%-100%)\n",
    "- **Use_of_Educational_Tech** – Whether the student uses educational technology (Yes/No)\n",
    "- **Self_Reported_Stress_Level** – Student’s stress level (Low, Medium, High)\n",
    "- **Time_Spent_on_Social_Media** (hours/week) – Weekly hours spent on social media (0-30 hours)\n",
    "- **Sleep_Hours_per_Night** – Average sleep duration (4-10 hours)\n",
    "- **Final_Grade** – Assigned grade based on exam score (A, B, C, D, F)\n",
    "\n",
    "The dataset does not contain missing values by default. However, we will check for missing values and duplicates in the dataset just to be sure."
   ],
   "metadata": {
    "collapsed": false
   },
   "id": "f6d44ddf61d34d73"
  },
  {
   "cell_type": "markdown",
   "source": [
    "# 3. Data preparation\n",
    "We will check for missing values and duplicates in the dataset. We will also check for unique values in each column to ensure that the data is clean and ready for analysis."
   ],
   "metadata": {
    "collapsed": false
   },
   "id": "124b59e51ad0382"
  },
  {
   "cell_type": "code",
   "execution_count": 105,
   "outputs": [
    {
     "name": "stdout",
     "output_type": "stream",
     "text": [
      "                Age  Study_Hours_per_Week  Online_Courses_Completed  \\\n",
      "count  10000.000000          10000.000000              10000.000000   \n",
      "mean      23.478800             27.130300                 10.007900   \n",
      "std        3.461986             13.002547                  6.136726   \n",
      "min       18.000000              5.000000                  0.000000   \n",
      "25%       20.000000             16.000000                  5.000000   \n",
      "50%       23.000000             27.000000                 10.000000   \n",
      "75%       27.000000             38.000000                 15.000000   \n",
      "max       29.000000             49.000000                 20.000000   \n",
      "\n",
      "       Assignment_Completion_Rate (%)  Exam_Score (%)  Attendance_Rate (%)  \\\n",
      "count                    10000.000000    10000.000000         10000.000000   \n",
      "mean                        74.922000       70.188900            75.085100   \n",
      "std                         14.675437       17.649447            14.749251   \n",
      "min                         50.000000       40.000000            50.000000   \n",
      "25%                         62.000000       55.000000            62.000000   \n",
      "50%                         75.000000       70.000000            75.000000   \n",
      "75%                         88.000000       85.000000            88.000000   \n",
      "max                        100.000000      100.000000           100.000000   \n",
      "\n",
      "       Time_Spent_on_Social_Media (hours/week)  Sleep_Hours_per_Night  \n",
      "count                             10000.000000           10000.000000  \n",
      "mean                                 14.936500               6.979300  \n",
      "std                                   9.022639               1.996965  \n",
      "min                                   0.000000               4.000000  \n",
      "25%                                   7.000000               5.000000  \n",
      "50%                                  15.000000               7.000000  \n",
      "75%                                  23.000000               9.000000  \n",
      "max                                  30.000000              10.000000  \n"
     ]
    }
   ],
   "source": [
    "print(df.describe()) # Summary statistics"
   ],
   "metadata": {
    "collapsed": false,
    "ExecuteTime": {
     "end_time": "2025-02-26T08:09:50.081933300Z",
     "start_time": "2025-02-26T08:09:50.055583700Z"
    }
   },
   "id": "907bae43d7de642"
  },
  {
   "cell_type": "code",
   "execution_count": 106,
   "outputs": [
    {
     "name": "stdout",
     "output_type": "stream",
     "text": [
      "Student_ID                                 0\n",
      "Age                                        0\n",
      "Gender                                     0\n",
      "Study_Hours_per_Week                       0\n",
      "Preferred_Learning_Style                   0\n",
      "Online_Courses_Completed                   0\n",
      "Participation_in_Discussions               0\n",
      "Assignment_Completion_Rate (%)             0\n",
      "Exam_Score (%)                             0\n",
      "Attendance_Rate (%)                        0\n",
      "Use_of_Educational_Tech                    0\n",
      "Self_Reported_Stress_Level                 0\n",
      "Time_Spent_on_Social_Media (hours/week)    0\n",
      "Sleep_Hours_per_Night                      0\n",
      "Final_Grade                                0\n",
      "dtype: int64\n"
     ]
    }
   ],
   "source": [
    "missing_values = df.isnull().sum() # Check for missing values\n",
    "print(missing_values)"
   ],
   "metadata": {
    "collapsed": false,
    "ExecuteTime": {
     "end_time": "2025-02-26T08:09:50.081933300Z",
     "start_time": "2025-02-26T08:09:50.070824500Z"
    }
   },
   "id": "e0cfef9ad26be8d2"
  },
  {
   "cell_type": "markdown",
   "source": [
    "Mapping categorical values to numerical values"
   ],
   "metadata": {
    "collapsed": false
   },
   "id": "401554451c31ce43"
  },
  {
   "cell_type": "code",
   "execution_count": 107,
   "outputs": [
    {
     "data": {
      "text/plain": "0       2\n1       2\n2       2\n3       2\n4       2\n       ..\n9995    1\n9996    2\n9997    1\n9998    1\n9999    1\nName: Gender, Length: 10000, dtype: int64"
     },
     "execution_count": 107,
     "metadata": {},
     "output_type": "execute_result"
    }
   ],
   "source": [
    "df[\"Gender\"] = df[\"Gender\"].map({\"Male\" : 1, \"Female\" : 2, \"Other\" : 3}) # Mapping genders by numbers\n",
    "df[\"Gender\"]"
   ],
   "metadata": {
    "collapsed": false,
    "ExecuteTime": {
     "end_time": "2025-02-26T08:09:50.090192800Z",
     "start_time": "2025-02-26T08:09:50.076934300Z"
    }
   },
   "id": "eeae0af9c1607289"
  },
  {
   "cell_type": "code",
   "execution_count": 108,
   "outputs": [
    {
     "data": {
      "text/plain": "0       1\n1       2\n2       1\n3       3\n4       3\n       ..\n9995    3\n9996    3\n9997    3\n9998    2\n9999    3\nName: Preferred_Learning_Style, Length: 10000, dtype: int64"
     },
     "execution_count": 108,
     "metadata": {},
     "output_type": "execute_result"
    }
   ],
   "source": [
    "df[\"Preferred_Learning_Style\"] = df[\"Preferred_Learning_Style\"].map({\"Kinesthetic\" : 1, \"Reading/Writing\" : 2, \"Auditory\" : 3, \"Visual\" : 3}) # Mapping learning styles by numbers\n",
    "df[\"Preferred_Learning_Style\"]"
   ],
   "metadata": {
    "collapsed": false,
    "ExecuteTime": {
     "end_time": "2025-02-26T08:09:50.099296200Z",
     "start_time": "2025-02-26T08:09:50.087193400Z"
    }
   },
   "id": "10322bcde457279d"
  },
  {
   "cell_type": "markdown",
   "source": [],
   "metadata": {
    "collapsed": false
   },
   "id": "914a49ee0e706137"
  },
  {
   "metadata": {},
   "cell_type": "markdown",
   "source": [
    "## 4. Modelling\n",
    "## 5. Evaluation\n",
    "## 6. Deployment"
   ],
   "id": "bd7660b41dca84e8"
  }
 ],
 "metadata": {
  "kernelspec": {
   "display_name": "Python 3",
   "language": "python",
   "name": "python3"
  },
  "language_info": {
   "codemirror_mode": {
    "name": "ipython",
    "version": 2
   },
   "file_extension": ".py",
   "mimetype": "text/x-python",
   "name": "python",
   "nbconvert_exporter": "python",
   "pygments_lexer": "ipython2",
   "version": "2.7.6"
  }
 },
 "nbformat": 4,
 "nbformat_minor": 5
}
