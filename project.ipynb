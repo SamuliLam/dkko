{
 "cells": [
  {
   "cell_type": "code",
   "execution_count": 2,
   "outputs": [],
   "source": [
    "import pandas as pd\n",
    "import matplotlib as plt\n",
    "import seaborn as sns\n",
    "import numpy as np"
   ],
   "metadata": {
    "collapsed": false,
    "ExecuteTime": {
     "end_time": "2025-02-26T12:33:08.335908300Z",
     "start_time": "2025-02-26T12:33:08.294560100Z"
    }
   },
   "id": "acf5b44e5764801d"
  },
  {
   "cell_type": "markdown",
   "source": [
    "# 1. Business understanding\n",
    "We are analyzing the student performance dataset to understand what factors affect the students performance the most, can we predict the final grade of a student based on the other features in the dataset and how different learning styles affect the performance of the student. We will use the following columns to predict the final grade of a student:"
   ],
   "metadata": {
    "collapsed": false
   },
   "id": "1edbd2671eae9db6"
  },
  {
   "cell_type": "code",
   "execution_count": 3,
   "outputs": [
    {
     "data": {
      "text/plain": "      Gender        Age    Height      Weight family_history_with_overweight  \\\n0     Female  21.000000  1.620000   64.000000                            yes   \n1     Female  21.000000  1.520000   56.000000                            yes   \n2       Male  23.000000  1.800000   77.000000                            yes   \n3       Male  27.000000  1.800000   87.000000                             no   \n4       Male  22.000000  1.780000   89.800000                             no   \n...      ...        ...       ...         ...                            ...   \n2106  Female  20.976842  1.710730  131.408528                            yes   \n2107  Female  21.982942  1.748584  133.742943                            yes   \n2108  Female  22.524036  1.752206  133.689352                            yes   \n2109  Female  24.361936  1.739450  133.346641                            yes   \n2110  Female  23.664709  1.738836  133.472641                            yes   \n\n     FAVC  FCVC  NCP       CAEC SMOKE      CH2O  SCC       FAF       TUE  \\\n0      no   2.0  3.0  Sometimes    no  2.000000   no  0.000000  1.000000   \n1      no   3.0  3.0  Sometimes   yes  3.000000  yes  3.000000  0.000000   \n2      no   2.0  3.0  Sometimes    no  2.000000   no  2.000000  1.000000   \n3      no   3.0  3.0  Sometimes    no  2.000000   no  2.000000  0.000000   \n4      no   2.0  1.0  Sometimes    no  2.000000   no  0.000000  0.000000   \n...   ...   ...  ...        ...   ...       ...  ...       ...       ...   \n2106  yes   3.0  3.0  Sometimes    no  1.728139   no  1.676269  0.906247   \n2107  yes   3.0  3.0  Sometimes    no  2.005130   no  1.341390  0.599270   \n2108  yes   3.0  3.0  Sometimes    no  2.054193   no  1.414209  0.646288   \n2109  yes   3.0  3.0  Sometimes    no  2.852339   no  1.139107  0.586035   \n2110  yes   3.0  3.0  Sometimes    no  2.863513   no  1.026452  0.714137   \n\n            CALC                 MTRANS           NObeyesdad  \n0             no  Public_Transportation        Normal_Weight  \n1      Sometimes  Public_Transportation        Normal_Weight  \n2     Frequently  Public_Transportation        Normal_Weight  \n3     Frequently                Walking   Overweight_Level_I  \n4      Sometimes  Public_Transportation  Overweight_Level_II  \n...          ...                    ...                  ...  \n2106   Sometimes  Public_Transportation     Obesity_Type_III  \n2107   Sometimes  Public_Transportation     Obesity_Type_III  \n2108   Sometimes  Public_Transportation     Obesity_Type_III  \n2109   Sometimes  Public_Transportation     Obesity_Type_III  \n2110   Sometimes  Public_Transportation     Obesity_Type_III  \n\n[2111 rows x 17 columns]",
      "text/html": "<div>\n<style scoped>\n    .dataframe tbody tr th:only-of-type {\n        vertical-align: middle;\n    }\n\n    .dataframe tbody tr th {\n        vertical-align: top;\n    }\n\n    .dataframe thead th {\n        text-align: right;\n    }\n</style>\n<table border=\"1\" class=\"dataframe\">\n  <thead>\n    <tr style=\"text-align: right;\">\n      <th></th>\n      <th>Gender</th>\n      <th>Age</th>\n      <th>Height</th>\n      <th>Weight</th>\n      <th>family_history_with_overweight</th>\n      <th>FAVC</th>\n      <th>FCVC</th>\n      <th>NCP</th>\n      <th>CAEC</th>\n      <th>SMOKE</th>\n      <th>CH2O</th>\n      <th>SCC</th>\n      <th>FAF</th>\n      <th>TUE</th>\n      <th>CALC</th>\n      <th>MTRANS</th>\n      <th>NObeyesdad</th>\n    </tr>\n  </thead>\n  <tbody>\n    <tr>\n      <th>0</th>\n      <td>Female</td>\n      <td>21.000000</td>\n      <td>1.620000</td>\n      <td>64.000000</td>\n      <td>yes</td>\n      <td>no</td>\n      <td>2.0</td>\n      <td>3.0</td>\n      <td>Sometimes</td>\n      <td>no</td>\n      <td>2.000000</td>\n      <td>no</td>\n      <td>0.000000</td>\n      <td>1.000000</td>\n      <td>no</td>\n      <td>Public_Transportation</td>\n      <td>Normal_Weight</td>\n    </tr>\n    <tr>\n      <th>1</th>\n      <td>Female</td>\n      <td>21.000000</td>\n      <td>1.520000</td>\n      <td>56.000000</td>\n      <td>yes</td>\n      <td>no</td>\n      <td>3.0</td>\n      <td>3.0</td>\n      <td>Sometimes</td>\n      <td>yes</td>\n      <td>3.000000</td>\n      <td>yes</td>\n      <td>3.000000</td>\n      <td>0.000000</td>\n      <td>Sometimes</td>\n      <td>Public_Transportation</td>\n      <td>Normal_Weight</td>\n    </tr>\n    <tr>\n      <th>2</th>\n      <td>Male</td>\n      <td>23.000000</td>\n      <td>1.800000</td>\n      <td>77.000000</td>\n      <td>yes</td>\n      <td>no</td>\n      <td>2.0</td>\n      <td>3.0</td>\n      <td>Sometimes</td>\n      <td>no</td>\n      <td>2.000000</td>\n      <td>no</td>\n      <td>2.000000</td>\n      <td>1.000000</td>\n      <td>Frequently</td>\n      <td>Public_Transportation</td>\n      <td>Normal_Weight</td>\n    </tr>\n    <tr>\n      <th>3</th>\n      <td>Male</td>\n      <td>27.000000</td>\n      <td>1.800000</td>\n      <td>87.000000</td>\n      <td>no</td>\n      <td>no</td>\n      <td>3.0</td>\n      <td>3.0</td>\n      <td>Sometimes</td>\n      <td>no</td>\n      <td>2.000000</td>\n      <td>no</td>\n      <td>2.000000</td>\n      <td>0.000000</td>\n      <td>Frequently</td>\n      <td>Walking</td>\n      <td>Overweight_Level_I</td>\n    </tr>\n    <tr>\n      <th>4</th>\n      <td>Male</td>\n      <td>22.000000</td>\n      <td>1.780000</td>\n      <td>89.800000</td>\n      <td>no</td>\n      <td>no</td>\n      <td>2.0</td>\n      <td>1.0</td>\n      <td>Sometimes</td>\n      <td>no</td>\n      <td>2.000000</td>\n      <td>no</td>\n      <td>0.000000</td>\n      <td>0.000000</td>\n      <td>Sometimes</td>\n      <td>Public_Transportation</td>\n      <td>Overweight_Level_II</td>\n    </tr>\n    <tr>\n      <th>...</th>\n      <td>...</td>\n      <td>...</td>\n      <td>...</td>\n      <td>...</td>\n      <td>...</td>\n      <td>...</td>\n      <td>...</td>\n      <td>...</td>\n      <td>...</td>\n      <td>...</td>\n      <td>...</td>\n      <td>...</td>\n      <td>...</td>\n      <td>...</td>\n      <td>...</td>\n      <td>...</td>\n      <td>...</td>\n    </tr>\n    <tr>\n      <th>2106</th>\n      <td>Female</td>\n      <td>20.976842</td>\n      <td>1.710730</td>\n      <td>131.408528</td>\n      <td>yes</td>\n      <td>yes</td>\n      <td>3.0</td>\n      <td>3.0</td>\n      <td>Sometimes</td>\n      <td>no</td>\n      <td>1.728139</td>\n      <td>no</td>\n      <td>1.676269</td>\n      <td>0.906247</td>\n      <td>Sometimes</td>\n      <td>Public_Transportation</td>\n      <td>Obesity_Type_III</td>\n    </tr>\n    <tr>\n      <th>2107</th>\n      <td>Female</td>\n      <td>21.982942</td>\n      <td>1.748584</td>\n      <td>133.742943</td>\n      <td>yes</td>\n      <td>yes</td>\n      <td>3.0</td>\n      <td>3.0</td>\n      <td>Sometimes</td>\n      <td>no</td>\n      <td>2.005130</td>\n      <td>no</td>\n      <td>1.341390</td>\n      <td>0.599270</td>\n      <td>Sometimes</td>\n      <td>Public_Transportation</td>\n      <td>Obesity_Type_III</td>\n    </tr>\n    <tr>\n      <th>2108</th>\n      <td>Female</td>\n      <td>22.524036</td>\n      <td>1.752206</td>\n      <td>133.689352</td>\n      <td>yes</td>\n      <td>yes</td>\n      <td>3.0</td>\n      <td>3.0</td>\n      <td>Sometimes</td>\n      <td>no</td>\n      <td>2.054193</td>\n      <td>no</td>\n      <td>1.414209</td>\n      <td>0.646288</td>\n      <td>Sometimes</td>\n      <td>Public_Transportation</td>\n      <td>Obesity_Type_III</td>\n    </tr>\n    <tr>\n      <th>2109</th>\n      <td>Female</td>\n      <td>24.361936</td>\n      <td>1.739450</td>\n      <td>133.346641</td>\n      <td>yes</td>\n      <td>yes</td>\n      <td>3.0</td>\n      <td>3.0</td>\n      <td>Sometimes</td>\n      <td>no</td>\n      <td>2.852339</td>\n      <td>no</td>\n      <td>1.139107</td>\n      <td>0.586035</td>\n      <td>Sometimes</td>\n      <td>Public_Transportation</td>\n      <td>Obesity_Type_III</td>\n    </tr>\n    <tr>\n      <th>2110</th>\n      <td>Female</td>\n      <td>23.664709</td>\n      <td>1.738836</td>\n      <td>133.472641</td>\n      <td>yes</td>\n      <td>yes</td>\n      <td>3.0</td>\n      <td>3.0</td>\n      <td>Sometimes</td>\n      <td>no</td>\n      <td>2.863513</td>\n      <td>no</td>\n      <td>1.026452</td>\n      <td>0.714137</td>\n      <td>Sometimes</td>\n      <td>Public_Transportation</td>\n      <td>Obesity_Type_III</td>\n    </tr>\n  </tbody>\n</table>\n<p>2111 rows × 17 columns</p>\n</div>"
     },
     "execution_count": 3,
     "metadata": {},
     "output_type": "execute_result"
    }
   ],
   "source": [
    "df = pd.read_csv('./datasets/ObesityDataSet_raw_and_data_sinthetic.csv')\n",
    "df"
   ],
   "metadata": {
    "collapsed": false,
    "ExecuteTime": {
     "end_time": "2025-02-26T12:33:08.399998700Z",
     "start_time": "2025-02-26T12:33:08.300523800Z"
    }
   },
   "id": "1ee4b4e5c51de84a"
  },
  {
   "cell_type": "markdown",
   "source": [
    "#plot age and weight distribution"
   ],
   "metadata": {
    "collapsed": false
   },
   "id": "69d97a96c160cd39"
  },
  {
   "cell_type": "code",
   "execution_count": 10,
   "outputs": [
    {
     "data": {
      "text/plain": "<Figure size 640x480 with 1 Axes>",
      "image/png": "[encoded data removed]"
     },
     "metadata": {},
     "output_type": "display_data"
    }
   ],
   "source": [],
   "metadata": {
    "collapsed": false,
    "ExecuteTime": {
     "end_time": "2025-02-26T12:38:21.048179900Z",
     "start_time": "2025-02-26T12:38:20.964403400Z"
    }
   },
   "id": "d6f8743245368227"
  },
  {
   "cell_type": "markdown",
   "source": [
    "\n",
    "# 2. Data understanding\n",
    "The data is pulled from Kaggle and created by Adil Shahim (https://www.kaggle.com/datasets/adilshamim8/student-performance-and-learning-style). The dataset contains the following columns:\n",
    "\n",
    "- **Student_ID** – Unique identifier for each student\n",
    "- **Age** – Student's age (18-30 years)\n",
    "- **Gender** – Male, Female, or Other\n",
    "- **Study_Hours_per_Week** – Hours spent studying per week (5-50 hours)\n",
    "- **Preferred_Learning_Style** – Visual, Auditory, Reading/Writing, Kinesthetic\n",
    "- **Online_Courses_Completed** – Number of online courses completed (0-20)\n",
    "- **Participation_in_Discussions** – Whether the student actively participates in discussions (Yes/No)\n",
    "- **Assignment_Completion_Rate (%)** – Percentage of assignments completed (50%-100%)\n",
    "- **Exam_Score (%)** – Student’s final exam score (40%-100%)\n",
    "- **Attendance_Rate (%)** – Percentage of classes attended (50%-100%)\n",
    "- **Use_of_Educational_Tech** – Whether the student uses educational technology (Yes/No)\n",
    "- **Self_Reported_Stress_Level** – Student’s stress level (Low, Medium, High)\n",
    "- **Time_Spent_on_Social_Media** (hours/week) – Weekly hours spent on social media (0-30 hours)\n",
    "- **Sleep_Hours_per_Night** – Average sleep duration (4-10 hours)\n",
    "- **Final_Grade** – Assigned grade based on exam score (A, B, C, D, F)\n",
    "\n",
    "The dataset does not contain missing values by default. However, we will check for missing values and duplicates in the dataset just to be sure."
   ],
   "metadata": {
    "collapsed": false
   },
   "id": "f6d44ddf61d34d73"
  },
  {
   "cell_type": "markdown",
   "source": [
    "# 3. Data preparation\n",
    "We will check for missing values and duplicates in the dataset. We will also check for unique values in each column to ensure that the data is clean and ready for analysis. We will also map the categorical and boolean values to numerical values for easier analysis. We standardize the values for seeing"
   ],
   "metadata": {
    "collapsed": false
   },
   "id": "124b59e51ad0382"
  },
  {
   "cell_type": "code",
   "execution_count": 4,
   "outputs": [
    {
     "name": "stdout",
     "output_type": "stream",
     "text": [
      "               Age       Height       Weight         FCVC          NCP  \\\n",
      "count  2111.000000  2111.000000  2111.000000  2111.000000  2111.000000   \n",
      "mean     24.312600     1.701677    86.586058     2.419043     2.685628   \n",
      "std       6.345968     0.093305    26.191172     0.533927     0.778039   \n",
      "min      14.000000     1.450000    39.000000     1.000000     1.000000   \n",
      "25%      19.947192     1.630000    65.473343     2.000000     2.658738   \n",
      "50%      22.777890     1.700499    83.000000     2.385502     3.000000   \n",
      "75%      26.000000     1.768464   107.430682     3.000000     3.000000   \n",
      "max      61.000000     1.980000   173.000000     3.000000     4.000000   \n",
      "\n",
      "              CH2O          FAF          TUE  \n",
      "count  2111.000000  2111.000000  2111.000000  \n",
      "mean      2.008011     1.010298     0.657866  \n",
      "std       0.612953     0.850592     0.608927  \n",
      "min       1.000000     0.000000     0.000000  \n",
      "25%       1.584812     0.124505     0.000000  \n",
      "50%       2.000000     1.000000     0.625350  \n",
      "75%       2.477420     1.666678     1.000000  \n",
      "max       3.000000     3.000000     2.000000  \n"
     ]
    }
   ],
   "source": [
    "print(df.describe()) # Summary statistics"
   ],
   "metadata": {
    "collapsed": false,
    "ExecuteTime": {
     "end_time": "2025-02-26T12:33:08.403988200Z",
     "start_time": "2025-02-26T12:33:08.333913500Z"
    }
   },
   "id": "907bae43d7de642"
  },
  {
   "cell_type": "code",
   "execution_count": 5,
   "outputs": [
    {
     "name": "stdout",
     "output_type": "stream",
     "text": [
      "Gender                            0\n",
      "Age                               0\n",
      "Height                            0\n",
      "Weight                            0\n",
      "family_history_with_overweight    0\n",
      "FAVC                              0\n",
      "FCVC                              0\n",
      "NCP                               0\n",
      "CAEC                              0\n",
      "SMOKE                             0\n",
      "CH2O                              0\n",
      "SCC                               0\n",
      "FAF                               0\n",
      "TUE                               0\n",
      "CALC                              0\n",
      "MTRANS                            0\n",
      "NObeyesdad                        0\n",
      "dtype: int64\n"
     ]
    }
   ],
   "source": [
    "missing_values = df.isnull().sum() # Check for missing values\n",
    "print(missing_values)"
   ],
   "metadata": {
    "collapsed": false,
    "ExecuteTime": {
     "end_time": "2025-02-26T12:33:08.412962700Z",
     "start_time": "2025-02-26T12:33:08.350870300Z"
    }
   },
   "id": "e0cfef9ad26be8d2"
  },
  {
   "cell_type": "markdown",
   "source": [
    "## Mapping categorical and boolean values to numerical values."
   ],
   "metadata": {
    "collapsed": false
   },
   "id": "401554451c31ce43"
  },
  {
   "cell_type": "code",
   "execution_count": 6,
   "outputs": [
    {
     "ename": "KeyError",
     "evalue": "\"None of [Index(['Preferred_Learning_Style'], dtype='object')] are in the [columns]\"",
     "output_type": "error",
     "traceback": [
      "\u001B[1;31m---------------------------------------------------------------------------\u001B[0m",
      "\u001B[1;31mKeyError\u001B[0m                                  Traceback (most recent call last)",
      "Cell \u001B[1;32mIn[6], line 3\u001B[0m\n\u001B[0;32m      1\u001B[0m \u001B[38;5;66;03m# df[\"Student_ID\"] = df[\"Student_ID\"].str[1:].astype('int') # Converting student IDs to integers from (S0001, S0002, S0003, ...) to (1, 2, 3, ...)\u001B[39;00m\n\u001B[0;32m      2\u001B[0m df \u001B[38;5;241m=\u001B[39m pd\u001B[38;5;241m.\u001B[39mget_dummies(df, columns\u001B[38;5;241m=\u001B[39m[\u001B[38;5;124m\"\u001B[39m\u001B[38;5;124mGender\u001B[39m\u001B[38;5;124m\"\u001B[39m], drop_first\u001B[38;5;241m=\u001B[39m\u001B[38;5;28;01mTrue\u001B[39;00m) \u001B[38;5;66;03m# One hot encoding for Gender\u001B[39;00m\n\u001B[1;32m----> 3\u001B[0m df \u001B[38;5;241m=\u001B[39m \u001B[43mpd\u001B[49m\u001B[38;5;241;43m.\u001B[39;49m\u001B[43mget_dummies\u001B[49m\u001B[43m(\u001B[49m\u001B[43mdf\u001B[49m\u001B[43m,\u001B[49m\u001B[43m \u001B[49m\u001B[43mcolumns\u001B[49m\u001B[38;5;241;43m=\u001B[39;49m\u001B[43m[\u001B[49m\u001B[38;5;124;43m\"\u001B[39;49m\u001B[38;5;124;43mPreferred_Learning_Style\u001B[39;49m\u001B[38;5;124;43m\"\u001B[39;49m\u001B[43m]\u001B[49m\u001B[43m,\u001B[49m\u001B[43m \u001B[49m\u001B[43mdrop_first\u001B[49m\u001B[38;5;241;43m=\u001B[39;49m\u001B[38;5;28;43;01mTrue\u001B[39;49;00m\u001B[43m)\u001B[49m \u001B[38;5;66;03m# One hot encoding for preferred learning style\u001B[39;00m\n\u001B[0;32m      4\u001B[0m df[\u001B[38;5;124m\"\u001B[39m\u001B[38;5;124mParticipation_in_Discussions\u001B[39m\u001B[38;5;124m\"\u001B[39m] \u001B[38;5;241m=\u001B[39m df[\u001B[38;5;124m\"\u001B[39m\u001B[38;5;124mParticipation_in_Discussions\u001B[39m\u001B[38;5;124m\"\u001B[39m]\u001B[38;5;241m.\u001B[39mmap({\u001B[38;5;124m\"\u001B[39m\u001B[38;5;124mYes\u001B[39m\u001B[38;5;124m\"\u001B[39m: \u001B[38;5;241m1\u001B[39m, \u001B[38;5;124m\"\u001B[39m\u001B[38;5;124mNo\u001B[39m\u001B[38;5;124m\"\u001B[39m: \u001B[38;5;241m0\u001B[39m})\n\u001B[0;32m      5\u001B[0m df[\u001B[38;5;124m\"\u001B[39m\u001B[38;5;124mUse_of_Educational_Tech\u001B[39m\u001B[38;5;124m\"\u001B[39m] \u001B[38;5;241m=\u001B[39m df[\u001B[38;5;124m\"\u001B[39m\u001B[38;5;124mUse_of_Educational_Tech\u001B[39m\u001B[38;5;124m\"\u001B[39m]\u001B[38;5;241m.\u001B[39mmap({\u001B[38;5;124m\"\u001B[39m\u001B[38;5;124mYes\u001B[39m\u001B[38;5;124m\"\u001B[39m: \u001B[38;5;241m1\u001B[39m, \u001B[38;5;124m\"\u001B[39m\u001B[38;5;124mNo\u001B[39m\u001B[38;5;124m\"\u001B[39m: \u001B[38;5;241m0\u001B[39m})\n",
      "File \u001B[1;32m~\\AppData\\Local\\Programs\\Python\\Python312\\Lib\\site-packages\\pandas\\core\\reshape\\encoding.py:169\u001B[0m, in \u001B[0;36mget_dummies\u001B[1;34m(data, prefix, prefix_sep, dummy_na, columns, sparse, drop_first, dtype)\u001B[0m\n\u001B[0;32m    167\u001B[0m     \u001B[38;5;28;01mraise\u001B[39;00m \u001B[38;5;167;01mTypeError\u001B[39;00m(\u001B[38;5;124m\"\u001B[39m\u001B[38;5;124mInput must be a list-like for parameter `columns`\u001B[39m\u001B[38;5;124m\"\u001B[39m)\n\u001B[0;32m    168\u001B[0m \u001B[38;5;28;01melse\u001B[39;00m:\n\u001B[1;32m--> 169\u001B[0m     data_to_encode \u001B[38;5;241m=\u001B[39m \u001B[43mdata\u001B[49m\u001B[43m[\u001B[49m\u001B[43mcolumns\u001B[49m\u001B[43m]\u001B[49m\n\u001B[0;32m    171\u001B[0m \u001B[38;5;66;03m# validate prefixes and separator to avoid silently dropping cols\u001B[39;00m\n\u001B[0;32m    172\u001B[0m \u001B[38;5;28;01mdef\u001B[39;00m\u001B[38;5;250m \u001B[39m\u001B[38;5;21mcheck_len\u001B[39m(item, name: \u001B[38;5;28mstr\u001B[39m):\n",
      "File \u001B[1;32m~\\AppData\\Local\\Programs\\Python\\Python312\\Lib\\site-packages\\pandas\\core\\frame.py:4108\u001B[0m, in \u001B[0;36mDataFrame.__getitem__\u001B[1;34m(self, key)\u001B[0m\n\u001B[0;32m   4106\u001B[0m     \u001B[38;5;28;01mif\u001B[39;00m is_iterator(key):\n\u001B[0;32m   4107\u001B[0m         key \u001B[38;5;241m=\u001B[39m \u001B[38;5;28mlist\u001B[39m(key)\n\u001B[1;32m-> 4108\u001B[0m     indexer \u001B[38;5;241m=\u001B[39m \u001B[38;5;28;43mself\u001B[39;49m\u001B[38;5;241;43m.\u001B[39;49m\u001B[43mcolumns\u001B[49m\u001B[38;5;241;43m.\u001B[39;49m\u001B[43m_get_indexer_strict\u001B[49m\u001B[43m(\u001B[49m\u001B[43mkey\u001B[49m\u001B[43m,\u001B[49m\u001B[43m \u001B[49m\u001B[38;5;124;43m\"\u001B[39;49m\u001B[38;5;124;43mcolumns\u001B[39;49m\u001B[38;5;124;43m\"\u001B[39;49m\u001B[43m)\u001B[49m[\u001B[38;5;241m1\u001B[39m]\n\u001B[0;32m   4110\u001B[0m \u001B[38;5;66;03m# take() does not accept boolean indexers\u001B[39;00m\n\u001B[0;32m   4111\u001B[0m \u001B[38;5;28;01mif\u001B[39;00m \u001B[38;5;28mgetattr\u001B[39m(indexer, \u001B[38;5;124m\"\u001B[39m\u001B[38;5;124mdtype\u001B[39m\u001B[38;5;124m\"\u001B[39m, \u001B[38;5;28;01mNone\u001B[39;00m) \u001B[38;5;241m==\u001B[39m \u001B[38;5;28mbool\u001B[39m:\n",
      "File \u001B[1;32m~\\AppData\\Local\\Programs\\Python\\Python312\\Lib\\site-packages\\pandas\\core\\indexes\\base.py:6200\u001B[0m, in \u001B[0;36mIndex._get_indexer_strict\u001B[1;34m(self, key, axis_name)\u001B[0m\n\u001B[0;32m   6197\u001B[0m \u001B[38;5;28;01melse\u001B[39;00m:\n\u001B[0;32m   6198\u001B[0m     keyarr, indexer, new_indexer \u001B[38;5;241m=\u001B[39m \u001B[38;5;28mself\u001B[39m\u001B[38;5;241m.\u001B[39m_reindex_non_unique(keyarr)\n\u001B[1;32m-> 6200\u001B[0m \u001B[38;5;28;43mself\u001B[39;49m\u001B[38;5;241;43m.\u001B[39;49m\u001B[43m_raise_if_missing\u001B[49m\u001B[43m(\u001B[49m\u001B[43mkeyarr\u001B[49m\u001B[43m,\u001B[49m\u001B[43m \u001B[49m\u001B[43mindexer\u001B[49m\u001B[43m,\u001B[49m\u001B[43m \u001B[49m\u001B[43maxis_name\u001B[49m\u001B[43m)\u001B[49m\n\u001B[0;32m   6202\u001B[0m keyarr \u001B[38;5;241m=\u001B[39m \u001B[38;5;28mself\u001B[39m\u001B[38;5;241m.\u001B[39mtake(indexer)\n\u001B[0;32m   6203\u001B[0m \u001B[38;5;28;01mif\u001B[39;00m \u001B[38;5;28misinstance\u001B[39m(key, Index):\n\u001B[0;32m   6204\u001B[0m     \u001B[38;5;66;03m# GH 42790 - Preserve name from an Index\u001B[39;00m\n",
      "File \u001B[1;32m~\\AppData\\Local\\Programs\\Python\\Python312\\Lib\\site-packages\\pandas\\core\\indexes\\base.py:6249\u001B[0m, in \u001B[0;36mIndex._raise_if_missing\u001B[1;34m(self, key, indexer, axis_name)\u001B[0m\n\u001B[0;32m   6247\u001B[0m \u001B[38;5;28;01mif\u001B[39;00m nmissing:\n\u001B[0;32m   6248\u001B[0m     \u001B[38;5;28;01mif\u001B[39;00m nmissing \u001B[38;5;241m==\u001B[39m \u001B[38;5;28mlen\u001B[39m(indexer):\n\u001B[1;32m-> 6249\u001B[0m         \u001B[38;5;28;01mraise\u001B[39;00m \u001B[38;5;167;01mKeyError\u001B[39;00m(\u001B[38;5;124mf\u001B[39m\u001B[38;5;124m\"\u001B[39m\u001B[38;5;124mNone of [\u001B[39m\u001B[38;5;132;01m{\u001B[39;00mkey\u001B[38;5;132;01m}\u001B[39;00m\u001B[38;5;124m] are in the [\u001B[39m\u001B[38;5;132;01m{\u001B[39;00maxis_name\u001B[38;5;132;01m}\u001B[39;00m\u001B[38;5;124m]\u001B[39m\u001B[38;5;124m\"\u001B[39m)\n\u001B[0;32m   6251\u001B[0m     not_found \u001B[38;5;241m=\u001B[39m \u001B[38;5;28mlist\u001B[39m(ensure_index(key)[missing_mask\u001B[38;5;241m.\u001B[39mnonzero()[\u001B[38;5;241m0\u001B[39m]]\u001B[38;5;241m.\u001B[39munique())\n\u001B[0;32m   6252\u001B[0m     \u001B[38;5;28;01mraise\u001B[39;00m \u001B[38;5;167;01mKeyError\u001B[39;00m(\u001B[38;5;124mf\u001B[39m\u001B[38;5;124m\"\u001B[39m\u001B[38;5;132;01m{\u001B[39;00mnot_found\u001B[38;5;132;01m}\u001B[39;00m\u001B[38;5;124m not in index\u001B[39m\u001B[38;5;124m\"\u001B[39m)\n",
      "\u001B[1;31mKeyError\u001B[0m: \"None of [Index(['Preferred_Learning_Style'], dtype='object')] are in the [columns]\""
     ]
    }
   ],
   "source": [
    "# df[\"Student_ID\"] = df[\"Student_ID\"].str[1:].astype('int') # Converting student IDs to integers from (S0001, S0002, S0003, ...) to (1, 2, 3, ...)\n",
    "df = pd.get_dummies(df, columns=[\"Gender\"], drop_first=True) # One hot encoding for Gender\n",
    "df = pd.get_dummies(df, columns=[\"Preferred_Learning_Style\"], drop_first=True) # One hot encoding for preferred learning style\n",
    "df[\"Participation_in_Discussions\"] = df[\"Participation_in_Discussions\"].map({\"Yes\": 1, \"No\": 0})\n",
    "df[\"Use_of_Educational_Tech\"] = df[\"Use_of_Educational_Tech\"].map({\"Yes\": 1, \"No\": 0})\n",
    "df[\"Self_Reported_Stress_Level\"] = df[\"Self_Reported_Stress_Level\"].map({\"Low\" : 1, \"Medium\" : 2, \"High\" : 3}); # Mapping stress levels by numbers\n",
    "df[\"Final_Grade\"] = df[\"Final_Grade\"].astype(\"category\")"
   ],
   "metadata": {
    "collapsed": false,
    "ExecuteTime": {
     "end_time": "2025-02-26T12:33:08.834212200Z",
     "start_time": "2025-02-26T12:33:08.355119100Z"
    }
   },
   "id": "eeae0af9c1607289"
  },
  {
   "cell_type": "markdown",
   "source": [],
   "metadata": {
    "collapsed": false
   },
   "id": "914a49ee0e706137"
  },
  {
   "cell_type": "markdown",
   "source": [],
   "metadata": {
    "collapsed": false
   },
   "id": "2b6d0236d23f5db"
  },
  {
   "metadata": {},
   "cell_type": "markdown",
   "source": [
    "## 4. Modelling\n",
    "We will use the decision trees to see which features affect the final grade of a student the most."
   ],
   "id": "bd7660b41dca84e8"
  },
  {
   "cell_type": "code",
   "execution_count": null,
   "outputs": [],
   "source": [
    "import pandas as pd\n",
    "import matplotlib.pyplot as plt\n",
    "import seaborn as sns\n",
    "from sklearn.model_selection import train_test_split\n",
    "from sklearn.tree import DecisionTreeClassifier, plot_tree  \n",
    "from sklearn.metrics import recall_score, classification_report\n",
    "\n",
    "X = df.drop(['Final_Grade', 'Exam_Score (%)', \"Participation_in_Discussions\", \"Gender_Male\", \"Gender_Other\"], axis = 1) # input features\n",
    "y = df['Final_Grade'].astype('category') # target features\n",
    "X_train, X_test, y_train, y_test = train_test_split(X, y, test_size = 0.25, random_state=20) # extract test set\n",
    "print(X_train.shape, X_test.shape, y_train.shape, y_test.shape) # check the shape of the train and test sets\n",
    "\n",
    "model = DecisionTreeClassifier(max_depth=6, min_samples_split=5, random_state=20)\n",
    "model.fit(X_train, y_train) # fit the model\n",
    "\n",
    "fig = plt.figure(figsize = (10, 10))\n",
    "plot_tree(model, feature_names = X.keys(), class_names = ['A', 'B', 'C', 'D'])\n",
    "plt.show()"
   ],
   "metadata": {
    "collapsed": false,
    "ExecuteTime": {
     "end_time": "2025-02-26T12:33:08.836206600Z",
     "start_time": "2025-02-26T12:33:08.835207800Z"
    }
   },
   "id": "575f0d7bbbccd770"
  },
  {
   "cell_type": "code",
   "execution_count": null,
   "outputs": [],
   "source": [
    "from sklearn.inspection import permutation_importance\n",
    "\n",
    "result = permutation_importance(model, X, y, n_repeats=10, scoring=\"accuracy\", random_state=0, n_jobs=-1)\n",
    "sorted_idx = result.importances_mean.argsort()\n",
    "\n",
    "fig, ax = plt.subplots()\n",
    "ax.boxplot(result.importances[sorted_idx].T, vert=False, tick_labels=X.columns[sorted_idx])\n",
    "ax.set_title(\"Permutation Importance / Top 10 most important features\")\n",
    "fig.tight_layout()\n",
    "plt.show()"
   ],
   "metadata": {
    "collapsed": false,
    "ExecuteTime": {
     "end_time": "2025-02-26T12:33:08.837203600Z",
     "start_time": "2025-02-26T12:33:08.837203600Z"
    }
   },
   "id": "a4b9f3cc3ce40367"
  },
  {
   "cell_type": "code",
   "execution_count": null,
   "outputs": [],
   "source": [
    "from sklearn.metrics import accuracy_score, recall_score, classification_report, confusion_matrix\n",
    "\n",
    "# Predictions on test data\n",
    "y_pred = model.predict(X_test)\n",
    "\n",
    "# Accuracy\n",
    "accuracy = accuracy_score(y_test, y_pred)\n",
    "print(\"Accuracy:\", accuracy)\n",
    "\n",
    "# Recall (you already have this)\n",
    "recall = recall_score(y_test, y_pred, average='weighted')  # 'weighted' handles class imbalance\n",
    "print(\"Recall Score:\", recall)\n",
    "\n",
    "# Full classification report\n",
    "print(classification_report(y_test, y_pred))\n",
    "\n",
    "# Confusion matrix\n",
    "plt.figure(figsize=(6,4))\n",
    "sns.heatmap(confusion_matrix(y_test, y_pred), annot=True, fmt=\"d\", cmap=\"Blues\", xticklabels=model.classes_, yticklabels=model.classes_)\n",
    "plt.title(\"Confusion Matrix\")\n",
    "plt.xlabel(\"Predicted\")\n",
    "plt.ylabel(\"Actual\")\n",
    "plt.show()"
   ],
   "metadata": {
    "collapsed": false,
    "ExecuteTime": {
     "start_time": "2025-02-26T12:33:08.839198200Z"
    }
   },
   "id": "67cfb7c0b8b32faf"
  },
  {
   "cell_type": "code",
   "execution_count": null,
   "outputs": [],
   "source": [],
   "metadata": {
    "collapsed": false,
    "ExecuteTime": {
     "start_time": "2025-02-26T12:33:08.840197600Z"
    }
   },
   "id": "829c6f1a3494b440"
  }
 ],
 "metadata": {
  "kernelspec": {
   "display_name": "Python 3",
   "language": "python",
   "name": "python3"
  },
  "language_info": {
   "codemirror_mode": {
    "name": "ipython",
    "version": 2
   },
   "file_extension": ".py",
   "mimetype": "text/x-python",
   "name": "python",
   "nbconvert_exporter": "python",
   "pygments_lexer": "ipython2",
   "version": "2.7.6"
  }
 },
 "nbformat": 4,
 "nbformat_minor": 5
}
