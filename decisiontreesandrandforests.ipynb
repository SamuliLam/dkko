{
 "cells": [
  {
   "cell_type": "markdown",
   "source": [
    "# Decision Trees and Random Forests"
   ],
   "metadata": {
    "collapsed": false
   },
   "id": "13aca168efaf56e4"
  },
  {
   "cell_type": "markdown",
   "source": [
    "## 1. Business Understanding\n",
    " "
   ],
   "metadata": {
    "collapsed": false
   },
   "id": "a976dd1d581fafcf"
  },
  {
   "cell_type": "markdown",
   "source": [
    "## 2. Data Understanding"
   ],
   "metadata": {
    "collapsed": false
   },
   "id": "2311b1daade8e51c"
  },
  {
   "cell_type": "markdown",
   "source": [
    "## 3. Data Preparation"
   ],
   "metadata": {
    "collapsed": false
   },
   "id": "e304abbcf1debcf1"
  },
  {
   "cell_type": "markdown",
   "source": [
    "## 4. Modeling"
   ],
   "metadata": {
    "collapsed": false
   },
   "id": "ff186b2530ea364f"
  },
  {
   "cell_type": "markdown",
   "source": [
    "## 5. Evaluation"
   ],
   "metadata": {
    "collapsed": false
   },
   "id": "7dd741d3957f4965"
  },
  {
   "cell_type": "markdown",
   "source": [
    "## 6. Deployment"
   ],
   "metadata": {
    "collapsed": false
   },
   "id": "bf38346cdaff27cb"
  },
  {
   "cell_type": "code",
   "execution_count": null,
   "outputs": [],
   "source": [],
   "metadata": {
    "collapsed": false
   },
   "id": "ffb481a19e7e7b61"
  }
 ],
 "metadata": {
  "kernelspec": {
   "display_name": "Python 3",
   "language": "python",
   "name": "python3"
  },
  "language_info": {
   "codemirror_mode": {
    "name": "ipython",
    "version": 2
   },
   "file_extension": ".py",
   "mimetype": "text/x-python",
   "name": "python",
   "nbconvert_exporter": "python",
   "pygments_lexer": "ipython2",
   "version": "2.7.6"
  }
 },
 "nbformat": 4,
 "nbformat_minor": 5
}
