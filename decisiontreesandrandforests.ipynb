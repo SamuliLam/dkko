{
 "cells": [
  {
   "cell_type": "markdown",
   "source": [
    "# Decision Trees and Random Forests"
   ],
   "metadata": {
    "collapsed": false
   },
   "id": "13aca168efaf56e4"
  },
  {
   "cell_type": "markdown",
   "source": [
    "## 1. Business Understanding\n",
    " "
   ],
   "metadata": {
    "collapsed": false
   },
   "id": "a976dd1d581fafcf"
  },
  {
   "cell_type": "code",
   "execution_count": null,
   "outputs": [],
   "source": [],
   "metadata": {
    "collapsed": false
   },
   "id": "a4d9f9990f6b8782"
  }
 ],
 "metadata": {
  "kernelspec": {
   "display_name": "Python 3",
   "language": "python",
   "name": "python3"
  },
  "language_info": {
   "codemirror_mode": {
    "name": "ipython",
    "version": 2
   },
   "file_extension": ".py",
   "mimetype": "text/x-python",
   "name": "python",
   "nbconvert_exporter": "python",
   "pygments_lexer": "ipython2",
   "version": "2.7.6"
  }
 },
 "nbformat": 4,
 "nbformat_minor": 5
}
